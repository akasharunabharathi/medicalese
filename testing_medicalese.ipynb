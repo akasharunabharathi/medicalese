{
  "cells": [
    {
      "cell_type": "markdown",
      "metadata": {
        "id": "view-in-github",
        "colab_type": "text"
      },
      "source": [
        "<a href=\"https://colab.research.google.com/github/akasharunabharathi/medicalese/blob/main/testing_medicalese.ipynb\" target=\"_parent\"><img src=\"https://colab.research.google.com/assets/colab-badge.svg\" alt=\"Open In Colab\"/></a>"
      ]
    },
    {
      "cell_type": "code",
      "execution_count": null,
      "metadata": {
        "id": "eeqauCeL6IKD"
      },
      "outputs": [],
      "source": [
        "# you will be prompted with a window asking to grant permissions\n",
        "# click connect to google drive, choose your account, and click allow\n",
        "from google.colab import drive\n",
        "drive.mount(\"/content/drive\")"
      ]
    },
    {
      "cell_type": "code",
      "execution_count": null,
      "metadata": {
        "id": "KDTqw9bj6aPy"
      },
      "outputs": [],
      "source": [
        "!sudo apt install tesseract-ocr\n",
        "!git clone https://github.com/akasharunabharathi/medicalese\n",
        "!pip install -r medicalese/requirements.txt\n",
        "!clear"
      ]
    },
    {
      "cell_type": "code",
      "execution_count": 8,
      "metadata": {
        "colab": {
          "base_uri": "https://localhost:8080/"
        },
        "id": "AFsUv7XZ7gg_",
        "outputId": "b10e44cd-10e0-4546-b582-30bacf1a5895"
      },
      "outputs": [
        {
          "output_type": "stream",
          "name": "stdout",
          "text": [
            "A 38-year-old male presented for a routine heart checkup.He reported no specific symptoms related to cardiovascular health and had no known history of heart disease or related risk factors.Electrocardiogram (ECG) revealed a normal sinus rhythm with no evidence of arrhythmias, conduction abnormalities or ischemic changes.The echocardiogram demonstrated normal cardiac chamber sizes, preserved left ventricular systolic function, and no valvular abnormalities.\n"
          ]
        }
      ],
      "source": [
        "!python3 medicalese/main.py"
      ]
    },
    {
      "cell_type": "code",
      "source": [],
      "metadata": {
        "id": "y0NiuNBRbybT"
      },
      "execution_count": null,
      "outputs": []
    }
  ],
  "metadata": {
    "colab": {
      "provenance": [],
      "authorship_tag": "ABX9TyMAF99gkjCj+CkbUyrjMB0F",
      "include_colab_link": true
    },
    "kernelspec": {
      "display_name": "Python 3",
      "name": "python3"
    },
    "language_info": {
      "name": "python"
    }
  },
  "nbformat": 4,
  "nbformat_minor": 0
}