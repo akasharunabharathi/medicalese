{
  "cells": [
    {
      "cell_type": "markdown",
      "metadata": {
        "id": "view-in-github",
        "colab_type": "text"
      },
      "source": [
        "<a href=\"https://colab.research.google.com/github/akasharunabharathi/medicalese/blob/main/testing_medicalese.ipynb\" target=\"_parent\"><img src=\"https://colab.research.google.com/assets/colab-badge.svg\" alt=\"Open In Colab\"/></a>"
      ]
    },
    {
      "cell_type": "code",
      "execution_count": null,
      "metadata": {
        "colab": {
          "base_uri": "https://localhost:8080/"
        },
        "id": "eeqauCeL6IKD",
        "outputId": "3d0bde3a-e502-4056-9f3e-f8988e2873b7"
      },
      "outputs": [
        {
          "name": "stdout",
          "output_type": "stream",
          "text": [
            "Mounted at /content/drive\n"
          ]
        }
      ],
      "source": [
        "# you will be prompted with a window asking to grant permissions\n",
        "# click connect to google drive, choose your account, and click allow\n",
        "from google.colab import drive\n",
        "drive.mount(\"/content/drive\")"
      ]
    },
    {
      "cell_type": "code",
      "execution_count": null,
      "metadata": {
        "colab": {
          "base_uri": "https://localhost:8080/"
        },
        "id": "KDTqw9bj6aPy",
        "outputId": "302cdb39-7b03-4b0b-dddf-606dc63dc61c"
      },
      "outputs": [
        {
          "output_type": "stream",
          "name": "stdout",
          "text": [
            "Reading package lists... Done\n",
            "Building dependency tree... Done\n",
            "Reading state information... Done\n",
            "tesseract-ocr is already the newest version (4.1.1-2.1build1).\n",
            "0 upgraded, 0 newly installed, 0 to remove and 16 not upgraded.\n"
          ]
        }
      ],
      "source": [
        "!sudo apt install tesseract-ocr"
      ]
    },
    {
      "cell_type": "code",
      "execution_count": null,
      "metadata": {
        "colab": {
          "base_uri": "https://localhost:8080/"
        },
        "id": "ocvX-_jf7LkQ",
        "outputId": "a3ba191e-b15a-4ca4-dfd5-26e0629b38a4"
      },
      "outputs": [
        {
          "name": "stdout",
          "output_type": "stream",
          "text": [
            "Cloning into 'medicalese'...\n",
            "remote: Enumerating objects: 41, done.\u001b[K\n",
            "remote: Counting objects: 100% (41/41), done.\u001b[K\n",
            "remote: Compressing objects: 100% (33/33), done.\u001b[K\n",
            "remote: Total 41 (delta 16), reused 25 (delta 7), pack-reused 0\u001b[K\n",
            "Receiving objects: 100% (41/41), 244.35 KiB | 9.05 MiB/s, done.\n",
            "Resolving deltas: 100% (16/16), done.\n"
          ]
        }
      ],
      "source": [
        "!git clone https://github.com/akasharunabharathi/medicalese"
      ]
    },
    {
      "cell_type": "code",
      "execution_count": 28,
      "metadata": {
        "colab": {
          "base_uri": "https://localhost:8080/"
        },
        "id": "dX-MOty27drS",
        "outputId": "dc8d1b36-d734-48d4-aca7-207e6421c2d4"
      },
      "outputs": [
        {
          "output_type": "stream",
          "name": "stdout",
          "text": [
            "Requirement already satisfied: torch in /usr/local/lib/python3.10/dist-packages (from -r medicalese/requirements.txt (line 1)) (2.0.1+cu118)\n",
            "Requirement already satisfied: torchvision in /usr/local/lib/python3.10/dist-packages (from -r medicalese/requirements.txt (line 2)) (0.15.2+cu118)\n",
            "Requirement already satisfied: torchaudio in /usr/local/lib/python3.10/dist-packages (from -r medicalese/requirements.txt (line 3)) (2.0.2+cu118)\n",
            "Requirement already satisfied: transformers in /usr/local/lib/python3.10/dist-packages (from -r medicalese/requirements.txt (line 4)) (4.32.0)\n",
            "Requirement already satisfied: langchain in /usr/local/lib/python3.10/dist-packages (from -r medicalese/requirements.txt (line 5)) (0.0.271)\n",
            "Requirement already satisfied: huggingface_hub in /usr/local/lib/python3.10/dist-packages (from -r medicalese/requirements.txt (line 6)) (0.16.4)\n",
            "Requirement already satisfied: pytest in /usr/local/lib/python3.10/dist-packages (from -r medicalese/requirements.txt (line 8)) (7.4.0)\n",
            "Requirement already satisfied: pylint in /usr/local/lib/python3.10/dist-packages (from -r medicalese/requirements.txt (line 9)) (2.17.5)\n",
            "Requirement already satisfied: black in /usr/local/lib/python3.10/dist-packages (from -r medicalese/requirements.txt (line 10)) (23.7.0)\n",
            "Requirement already satisfied: fastapi in /usr/local/lib/python3.10/dist-packages (from -r medicalese/requirements.txt (line 12)) (0.101.1)\n",
            "Requirement already satisfied: uvicorn in /usr/local/lib/python3.10/dist-packages (from -r medicalese/requirements.txt (line 13)) (0.23.2)\n",
            "Requirement already satisfied: Pillow in /usr/local/lib/python3.10/dist-packages (from -r medicalese/requirements.txt (line 15)) (9.4.0)\n",
            "Requirement already satisfied: pytesseract in /usr/local/lib/python3.10/dist-packages (from -r medicalese/requirements.txt (line 16)) (0.3.10)\n",
            "Requirement already satisfied: filelock in /usr/local/lib/python3.10/dist-packages (from torch->-r medicalese/requirements.txt (line 1)) (3.12.2)\n",
            "Requirement already satisfied: typing-extensions in /usr/local/lib/python3.10/dist-packages (from torch->-r medicalese/requirements.txt (line 1)) (4.7.1)\n",
            "Requirement already satisfied: sympy in /usr/local/lib/python3.10/dist-packages (from torch->-r medicalese/requirements.txt (line 1)) (1.12)\n",
            "Requirement already satisfied: networkx in /usr/local/lib/python3.10/dist-packages (from torch->-r medicalese/requirements.txt (line 1)) (3.1)\n",
            "Requirement already satisfied: jinja2 in /usr/local/lib/python3.10/dist-packages (from torch->-r medicalese/requirements.txt (line 1)) (3.1.2)\n",
            "Requirement already satisfied: triton==2.0.0 in /usr/local/lib/python3.10/dist-packages (from torch->-r medicalese/requirements.txt (line 1)) (2.0.0)\n",
            "Requirement already satisfied: cmake in /usr/local/lib/python3.10/dist-packages (from triton==2.0.0->torch->-r medicalese/requirements.txt (line 1)) (3.27.2)\n",
            "Requirement already satisfied: lit in /usr/local/lib/python3.10/dist-packages (from triton==2.0.0->torch->-r medicalese/requirements.txt (line 1)) (16.0.6)\n",
            "Requirement already satisfied: numpy in /usr/local/lib/python3.10/dist-packages (from torchvision->-r medicalese/requirements.txt (line 2)) (1.23.5)\n",
            "Requirement already satisfied: requests in /usr/local/lib/python3.10/dist-packages (from torchvision->-r medicalese/requirements.txt (line 2)) (2.31.0)\n",
            "Requirement already satisfied: packaging>=20.0 in /usr/local/lib/python3.10/dist-packages (from transformers->-r medicalese/requirements.txt (line 4)) (23.1)\n",
            "Requirement already satisfied: pyyaml>=5.1 in /usr/local/lib/python3.10/dist-packages (from transformers->-r medicalese/requirements.txt (line 4)) (6.0.1)\n",
            "Requirement already satisfied: regex!=2019.12.17 in /usr/local/lib/python3.10/dist-packages (from transformers->-r medicalese/requirements.txt (line 4)) (2023.6.3)\n",
            "Requirement already satisfied: tokenizers!=0.11.3,<0.14,>=0.11.1 in /usr/local/lib/python3.10/dist-packages (from transformers->-r medicalese/requirements.txt (line 4)) (0.13.3)\n",
            "Requirement already satisfied: safetensors>=0.3.1 in /usr/local/lib/python3.10/dist-packages (from transformers->-r medicalese/requirements.txt (line 4)) (0.3.3)\n",
            "Requirement already satisfied: tqdm>=4.27 in /usr/local/lib/python3.10/dist-packages (from transformers->-r medicalese/requirements.txt (line 4)) (4.66.1)\n",
            "Requirement already satisfied: SQLAlchemy<3,>=1.4 in /usr/local/lib/python3.10/dist-packages (from langchain->-r medicalese/requirements.txt (line 5)) (2.0.20)\n",
            "Requirement already satisfied: aiohttp<4.0.0,>=3.8.3 in /usr/local/lib/python3.10/dist-packages (from langchain->-r medicalese/requirements.txt (line 5)) (3.8.5)\n",
            "Requirement already satisfied: async-timeout<5.0.0,>=4.0.0 in /usr/local/lib/python3.10/dist-packages (from langchain->-r medicalese/requirements.txt (line 5)) (4.0.3)\n",
            "Requirement already satisfied: dataclasses-json<0.6.0,>=0.5.7 in /usr/local/lib/python3.10/dist-packages (from langchain->-r medicalese/requirements.txt (line 5)) (0.5.14)\n",
            "Requirement already satisfied: langsmith<0.1.0,>=0.0.21 in /usr/local/lib/python3.10/dist-packages (from langchain->-r medicalese/requirements.txt (line 5)) (0.0.26)\n",
            "Requirement already satisfied: numexpr<3.0.0,>=2.8.4 in /usr/local/lib/python3.10/dist-packages (from langchain->-r medicalese/requirements.txt (line 5)) (2.8.5)\n",
            "Requirement already satisfied: pydantic<3,>=1 in /usr/local/lib/python3.10/dist-packages (from langchain->-r medicalese/requirements.txt (line 5)) (2.2.0)\n",
            "Requirement already satisfied: tenacity<9.0.0,>=8.1.0 in /usr/local/lib/python3.10/dist-packages (from langchain->-r medicalese/requirements.txt (line 5)) (8.2.3)\n",
            "Requirement already satisfied: fsspec in /usr/local/lib/python3.10/dist-packages (from huggingface_hub->-r medicalese/requirements.txt (line 6)) (2023.6.0)\n",
            "Requirement already satisfied: iniconfig in /usr/local/lib/python3.10/dist-packages (from pytest->-r medicalese/requirements.txt (line 8)) (2.0.0)\n",
            "Requirement already satisfied: pluggy<2.0,>=0.12 in /usr/local/lib/python3.10/dist-packages (from pytest->-r medicalese/requirements.txt (line 8)) (1.2.0)\n",
            "Requirement already satisfied: exceptiongroup>=1.0.0rc8 in /usr/local/lib/python3.10/dist-packages (from pytest->-r medicalese/requirements.txt (line 8)) (1.1.3)\n",
            "Requirement already satisfied: tomli>=1.0.0 in /usr/local/lib/python3.10/dist-packages (from pytest->-r medicalese/requirements.txt (line 8)) (2.0.1)\n",
            "Requirement already satisfied: platformdirs>=2.2.0 in /usr/local/lib/python3.10/dist-packages (from pylint->-r medicalese/requirements.txt (line 9)) (3.10.0)\n",
            "Requirement already satisfied: astroid<=2.17.0-dev0,>=2.15.6 in /usr/local/lib/python3.10/dist-packages (from pylint->-r medicalese/requirements.txt (line 9)) (2.15.6)\n",
            "Requirement already satisfied: isort<6,>=4.2.5 in /usr/local/lib/python3.10/dist-packages (from pylint->-r medicalese/requirements.txt (line 9)) (5.12.0)\n",
            "Requirement already satisfied: mccabe<0.8,>=0.6 in /usr/local/lib/python3.10/dist-packages (from pylint->-r medicalese/requirements.txt (line 9)) (0.7.0)\n",
            "Requirement already satisfied: tomlkit>=0.10.1 in /usr/local/lib/python3.10/dist-packages (from pylint->-r medicalese/requirements.txt (line 9)) (0.12.1)\n",
            "Requirement already satisfied: dill>=0.2 in /usr/local/lib/python3.10/dist-packages (from pylint->-r medicalese/requirements.txt (line 9)) (0.3.7)\n",
            "Requirement already satisfied: click>=8.0.0 in /usr/local/lib/python3.10/dist-packages (from black->-r medicalese/requirements.txt (line 10)) (8.1.7)\n",
            "Requirement already satisfied: mypy-extensions>=0.4.3 in /usr/local/lib/python3.10/dist-packages (from black->-r medicalese/requirements.txt (line 10)) (1.0.0)\n",
            "Requirement already satisfied: pathspec>=0.9.0 in /usr/local/lib/python3.10/dist-packages (from black->-r medicalese/requirements.txt (line 10)) (0.11.2)\n",
            "Requirement already satisfied: starlette<0.28.0,>=0.27.0 in /usr/local/lib/python3.10/dist-packages (from fastapi->-r medicalese/requirements.txt (line 12)) (0.27.0)\n",
            "Requirement already satisfied: h11>=0.8 in /usr/local/lib/python3.10/dist-packages (from uvicorn->-r medicalese/requirements.txt (line 13)) (0.14.0)\n",
            "Requirement already satisfied: attrs>=17.3.0 in /usr/local/lib/python3.10/dist-packages (from aiohttp<4.0.0,>=3.8.3->langchain->-r medicalese/requirements.txt (line 5)) (23.1.0)\n",
            "Requirement already satisfied: charset-normalizer<4.0,>=2.0 in /usr/local/lib/python3.10/dist-packages (from aiohttp<4.0.0,>=3.8.3->langchain->-r medicalese/requirements.txt (line 5)) (3.2.0)\n",
            "Requirement already satisfied: multidict<7.0,>=4.5 in /usr/local/lib/python3.10/dist-packages (from aiohttp<4.0.0,>=3.8.3->langchain->-r medicalese/requirements.txt (line 5)) (6.0.4)\n",
            "Requirement already satisfied: yarl<2.0,>=1.0 in /usr/local/lib/python3.10/dist-packages (from aiohttp<4.0.0,>=3.8.3->langchain->-r medicalese/requirements.txt (line 5)) (1.9.2)\n",
            "Requirement already satisfied: frozenlist>=1.1.1 in /usr/local/lib/python3.10/dist-packages (from aiohttp<4.0.0,>=3.8.3->langchain->-r medicalese/requirements.txt (line 5)) (1.4.0)\n",
            "Requirement already satisfied: aiosignal>=1.1.2 in /usr/local/lib/python3.10/dist-packages (from aiohttp<4.0.0,>=3.8.3->langchain->-r medicalese/requirements.txt (line 5)) (1.3.1)\n",
            "Requirement already satisfied: lazy-object-proxy>=1.4.0 in /usr/local/lib/python3.10/dist-packages (from astroid<=2.17.0-dev0,>=2.15.6->pylint->-r medicalese/requirements.txt (line 9)) (1.9.0)\n",
            "Requirement already satisfied: wrapt<2,>=1.11 in /usr/local/lib/python3.10/dist-packages (from astroid<=2.17.0-dev0,>=2.15.6->pylint->-r medicalese/requirements.txt (line 9)) (1.14.1)\n",
            "Requirement already satisfied: marshmallow<4.0.0,>=3.18.0 in /usr/local/lib/python3.10/dist-packages (from dataclasses-json<0.6.0,>=0.5.7->langchain->-r medicalese/requirements.txt (line 5)) (3.20.1)\n",
            "Requirement already satisfied: typing-inspect<1,>=0.4.0 in /usr/local/lib/python3.10/dist-packages (from dataclasses-json<0.6.0,>=0.5.7->langchain->-r medicalese/requirements.txt (line 5)) (0.9.0)\n",
            "Requirement already satisfied: annotated-types>=0.4.0 in /usr/local/lib/python3.10/dist-packages (from pydantic<3,>=1->langchain->-r medicalese/requirements.txt (line 5)) (0.5.0)\n",
            "Requirement already satisfied: pydantic-core==2.6.0 in /usr/local/lib/python3.10/dist-packages (from pydantic<3,>=1->langchain->-r medicalese/requirements.txt (line 5)) (2.6.0)\n",
            "Requirement already satisfied: idna<4,>=2.5 in /usr/local/lib/python3.10/dist-packages (from requests->torchvision->-r medicalese/requirements.txt (line 2)) (3.4)\n",
            "Requirement already satisfied: urllib3<3,>=1.21.1 in /usr/local/lib/python3.10/dist-packages (from requests->torchvision->-r medicalese/requirements.txt (line 2)) (2.0.4)\n",
            "Requirement already satisfied: certifi>=2017.4.17 in /usr/local/lib/python3.10/dist-packages (from requests->torchvision->-r medicalese/requirements.txt (line 2)) (2023.7.22)\n",
            "Requirement already satisfied: greenlet!=0.4.17 in /usr/local/lib/python3.10/dist-packages (from SQLAlchemy<3,>=1.4->langchain->-r medicalese/requirements.txt (line 5)) (2.0.2)\n",
            "Requirement already satisfied: anyio<5,>=3.4.0 in /usr/local/lib/python3.10/dist-packages (from starlette<0.28.0,>=0.27.0->fastapi->-r medicalese/requirements.txt (line 12)) (3.7.1)\n",
            "Requirement already satisfied: MarkupSafe>=2.0 in /usr/local/lib/python3.10/dist-packages (from jinja2->torch->-r medicalese/requirements.txt (line 1)) (2.1.3)\n",
            "Requirement already satisfied: mpmath>=0.19 in /usr/local/lib/python3.10/dist-packages (from sympy->torch->-r medicalese/requirements.txt (line 1)) (1.3.0)\n",
            "Requirement already satisfied: sniffio>=1.1 in /usr/local/lib/python3.10/dist-packages (from anyio<5,>=3.4.0->starlette<0.28.0,>=0.27.0->fastapi->-r medicalese/requirements.txt (line 12)) (1.3.0)\n"
          ]
        }
      ],
      "source": [
        "!pip install -r medicalese/requirements.txt"
      ]
    },
    {
      "cell_type": "code",
      "execution_count": 26,
      "metadata": {
        "colab": {
          "base_uri": "https://localhost:8080/"
        },
        "id": "AFsUv7XZ7gg_",
        "outputId": "19f0a3c2-ef39-4490-cbb5-3cea414c5865"
      },
      "outputs": [
        {
          "output_type": "stream",
          "name": "stdout",
          "text": [
            "2023-08-24 02:42:54.357649: W tensorflow/compiler/tf2tensorrt/utils/py_utils.cc:38] TF-TRT Warning: Could not find TensorRT\n",
            "/usr/local/lib/python3.10/dist-packages/transformers/generation/configuration_utils.py:362: UserWarning: `do_sample` is set to `False`. However, `temperature` is set to `0` -- this flag is only used in sample-based generation modes. You should set `do_sample=True` or unset `temperature`. This was detected when initializing the generation config instance, which means the corresponding file may hold incorrect parameterization and should be fixed.\n",
            "  warnings.warn(\n",
            "The Summary\n",
            "Patient Information:\n",
            "Name: Jacob Smith Gender: Male\n",
            "Date of Birth: January 01, 1985\n",
            "\n",
            "Clinical History:\n",
            "\n",
            "Mr. Jacob Smith, a 38-year-old male, presented for a routine heart checkup. He reported no\n",
            "specific symptoms related to cardiovascular health and had no known history of heart disease\n",
            "or related risk factors.\n",
            "\n",
            " \n",
            "\n",
            "Results:\n",
            "1. Electrocardiogram (ECG):\n",
            "\n",
            "The ECG revealed a normal sinus rhythm with no evidence of arrhythmias, conduction\n",
            "abnormalities, or ischemic changes. The P-wave, QRS complex, and T-wave morphology were\n",
            "within normal limits.\n",
            "\n",
            "2. Echocardiogram (Echo):\n",
            "\n",
            "The echocardiogram demonstrated normal cardiac chamber sizes, preserved left ventricular\n",
            "systolic function, and no valvular abnormalities. The ejection fraction (EF) was calculated to be\n",
            "within the normal range at approximately 60-65%.\n",
            "\n",
            "3. Lipid Profile:\n",
            "Total Cholesterol: 175 mg/dL (Desirable range: < 200 mg/dL)\n",
            "LDL Cholesterol: 110 mg/dL (Optimal range: < 100 mg/dL)\n",
            "HDL Cholesterol: 50 mg/dL (Desirable range: > 40 mg/dL for men)\n",
            "Triglycerides: 120 mg/dL (Desirable range: < 150 mg/dL)\n",
            "\n",
            "4. Blood Pressure:\n",
            "Systolic Blood Pressure: 120 mmHg (Normal range: < 120 mmHg)\n",
            "Diastolic Blood Pressure: 75 mmHg (Normal range: < 80 mmHg)\n",
            "\n",
            "Diagnosis:\n",
            "\n",
            "Based on the comprehensive evaluation performed, Mr. Jacob Smith's cardiovascular health\n",
            "appears to be within normal limits. The results of the electrocardiogram, echocardiogram, lipid\n",
            "profile, and blood pressure measurement all indicate no evidence of cardiac arrhythmias,\n",
            "structural abnormalities, or significant risk factors for cardiovascular disease. His lipid profile\n",
            "values are well within the desirable ranges, and his blood pressure falls within the normal range\n",
            "as well.\n",
            "\n",
            " \n",
            "\n",
            "Clinical Impression:\n",
            "\n",
            "Jacob Smith's heart checkup reveals no signs of cardiac dysfunction or disease. He maintains a\n",
            "healthy lipid profile and blood pressure, which are crucial indicators of cardiovascular\n",
            "well-being. Given the absence of any abnormalities, no further intervention or treatment is\n",
            "currently indicated. It is recommended that Mr. Smith continues to follow a healthy lifestyle,\n",
            "including regular exercise, a balanced diet, and routine medical checkups.\n",
            "\n",
            " \n",
            "\f\n",
            "Traceback (most recent call last):\n",
            "  File \"/content/medicalese/main.py\", line 11, in <module>\n",
            "    print(models.bio_summarize(file_name))\n",
            "  File \"/content/medicalese/models.py\", line 42, in bio_summarize\n",
            "    return llm.generate_prompt(prompt_template)\n",
            "  File \"/usr/local/lib/python3.10/dist-packages/langchain/llms/base.py\", line 466, in generate_prompt\n",
            "    prompt_strings = [p.to_string() for p in prompts]\n",
            "  File \"/usr/local/lib/python3.10/dist-packages/langchain/llms/base.py\", line 466, in <listcomp>\n",
            "    prompt_strings = [p.to_string() for p in prompts]\n",
            "AttributeError: 'tuple' object has no attribute 'to_string'\n"
          ]
        }
      ],
      "source": [
        "!python3 medicalese/main.py"
      ]
    },
    {
      "cell_type": "code",
      "execution_count": 27,
      "metadata": {
        "id": "hi-TUyse9pPI",
        "colab": {
          "base_uri": "https://localhost:8080/"
        },
        "outputId": "5619cf5f-c416-4c16-afc8-1eaac040c7a8"
      },
      "outputs": [
        {
          "output_type": "stream",
          "name": "stdout",
          "text": [
            "fatal: not a git repository (or any of the parent directories): .git\n"
          ]
        }
      ],
      "source": [
        "!git status"
      ]
    },
    {
      "cell_type": "code",
      "source": [],
      "metadata": {
        "id": "y0NiuNBRbybT"
      },
      "execution_count": null,
      "outputs": []
    }
  ],
  "metadata": {
    "colab": {
      "provenance": [],
      "authorship_tag": "ABX9TyNy3i/TmTnhMnfeGaL2fnhV",
      "include_colab_link": true
    },
    "kernelspec": {
      "display_name": "Python 3",
      "name": "python3"
    },
    "language_info": {
      "name": "python"
    }
  },
  "nbformat": 4,
  "nbformat_minor": 0
}