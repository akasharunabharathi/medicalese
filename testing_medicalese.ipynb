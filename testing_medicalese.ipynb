{
  "cells": [
    {
      "cell_type": "markdown",
      "metadata": {
        "id": "view-in-github",
        "colab_type": "text"
      },
      "source": [
        "<a href=\"https://colab.research.google.com/github/akasharunabharathi/medicalese/blob/main/testing_medicalese.ipynb\" target=\"_parent\"><img src=\"https://colab.research.google.com/assets/colab-badge.svg\" alt=\"Open In Colab\"/></a>"
      ]
    },
    {
      "cell_type": "code",
      "execution_count": 10,
      "metadata": {
        "id": "eeqauCeL6IKD",
        "outputId": "6b9faab8-27bb-45e3-bdf0-679106a176a5",
        "colab": {
          "base_uri": "https://localhost:8080/"
        }
      },
      "outputs": [
        {
          "output_type": "stream",
          "name": "stdout",
          "text": [
            "Drive already mounted at /content/drive; to attempt to forcibly remount, call drive.mount(\"/content/drive\", force_remount=True).\n"
          ]
        }
      ],
      "source": [
        "# you will be prompted with a window asking to grant permissions\n",
        "# click connect to google drive, choose your account, and click allow\n",
        "from google.colab import drive\n",
        "drive.mount(\"/content/drive\")"
      ]
    },
    {
      "cell_type": "code",
      "execution_count": null,
      "metadata": {
        "id": "KDTqw9bj6aPy"
      },
      "outputs": [],
      "source": [
        "!sudo apt install tesseract-ocr\n",
        "!git clone https://github.com/akasharunabharathi/medicalese\n",
        "!pip install -r medicalese/requirements.txt\n",
        "!clear"
      ]
    },
    {
      "cell_type": "code",
      "execution_count": 11,
      "metadata": {
        "colab": {
          "base_uri": "https://localhost:8080/"
        },
        "id": "AFsUv7XZ7gg_",
        "outputId": "11bb8065-d514-45cc-d3ef-a50801a26a87"
      },
      "outputs": [
        {
          "output_type": "stream",
          "name": "stdout",
          "text": [
            "A 38-year-old male presented for a routine heart checkup.\n",
            "He reported no specific symptoms related to cardiovascular health and had no known history of heart disease or related risk factors.\n",
            "Electrocardiogram (ECG) revealed a normal sinus rhythm with no evidence of arrhythmias, conduction abnormalities or ischemic changes.\n",
            "The echocardiogram demonstrated normal cardiac chamber sizes, preserved left ventricular systolic function, and no valvular abnormalities.\n"
          ]
        }
      ],
      "source": [
        "!python3 medicalese/main.py"
      ]
    }
  ],
  "metadata": {
    "colab": {
      "provenance": [],
      "authorship_tag": "ABX9TyO29FC/VW6mH1V5wthYy2jK",
      "include_colab_link": true
    },
    "kernelspec": {
      "display_name": "Python 3",
      "name": "python3"
    },
    "language_info": {
      "name": "python"
    }
  },
  "nbformat": 4,
  "nbformat_minor": 0
}